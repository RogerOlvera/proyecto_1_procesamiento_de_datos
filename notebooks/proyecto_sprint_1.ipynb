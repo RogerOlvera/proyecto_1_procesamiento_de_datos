{
  "cells": [
    {
      "cell_type": "markdown",
      "metadata": {
        "id": "zEVpmwx5SaAD"
      },
      "source": [
        "# **Sprint 1: Proyecto**"
      ]
    },
    {
      "cell_type": "markdown",
      "metadata": {
        "id": "-Fj6AEkZgHLs"
      },
      "source": [
        "Como parte del equipo de análisis, lo primero que debes hacer es evaluar la calidad de una muestra de datos recopilados y prepararla para analizarla posteriormente. Después, en la segunda parte de este proyecto en el segundo sprint, desarrollarás más tus habilidades y harás tu primer análisis completo, respondiendo a las necesidades del cliente."
      ]
    },
    {
      "cell_type": "markdown",
      "metadata": {
        "id": "l_b6yh0YgIVk"
      },
      "source": [
        "Estos son los datos que el cliente nos proporcionó. Tienen el formato de una lista de Python, con las siguientes columnas de datos:\n",
        "\n",
        "\n",
        "* user_id: Identificador único para cada usuario.\n",
        "\n",
        "* user_name: El nombre del usuario.\n",
        "\n",
        "* user_age: La edad del usuario.\n",
        "\n",
        "* fav_categories: Categorías favoritas de los artículos que compró el usuario, como 'ELECTRONICS', 'SPORT' y 'BOOKS' (ELECTRÓNICOS, DEPORTES y LIBROS), etc.\n",
        "\n",
        "* total_spendings: Una lista de números enteros que indican la cantidad total gastada en cada una de las categorías favoritas."
      ]
    },
    {
      "cell_type": "code",
      "execution_count": 26,
      "metadata": {
        "id": "P-NCbJzcgMfm"
      },
      "outputs": [],
      "source": [
        "# Data necesaria\n",
        "\n",
        "users = [\n",
        "    ['32415', ' mike_reed ', 32.0, ['ELECTRONICS', 'SPORT', 'BOOKS'], [894, 213, 173]],\n",
        "    ['31980', 'kate morgan', 24.0, ['CLOTHES', 'BOOKS'], [439, 390]],\n",
        "    ['32156', ' john doe ', 37.0, ['ELECTRONICS', 'HOME', 'FOOD'], [459, 120, 99]],\n",
        "    ['32761', 'SAMANTHA SMITH', 29.0, ['CLOTHES', 'ELECTRONICS', 'BEAUTY'], [299, 679, 85]],\n",
        "    ['32984', 'David White', 41.0, ['BOOKS', 'HOME', 'SPORT'], [234, 329, 243]],\n",
        "    ['33001', 'emily brown', 26.0, ['BEAUTY', 'HOME', 'FOOD'], [213, 659, 79]],\n",
        "    ['33767', ' Maria Garcia', 33.0, ['CLOTHES', 'FOOD', 'BEAUTY'], [499, 189, 63]],\n",
        "    ['33912', 'JOSE MARTINEZ', 22.0, ['SPORT', 'ELECTRONICS', 'HOME'], [259, 549, 109]],\n",
        "    ['34009', 'lisa wilson ', 35.0, ['HOME', 'BOOKS', 'CLOTHES'], [329, 189, 329]],\n",
        "    ['34278', 'James Lee', 28.0, ['BEAUTY', 'CLOTHES', 'ELECTRONICS'], [189, 299, 579]],\n",
        "]"
      ]
    },
    {
      "cell_type": "markdown",
      "metadata": {
        "id": "NeN7_KhWgO6k"
      },
      "source": [
        "## **Paso 1**\n",
        "\n",
        "Store 1 tiene como objetivo garantizar la coherencia en la recopilación de datos. Como parte de esta iniciativa, se debe evaluar la calidad de los datos recopilados sobre los usuarios y las usuarias.\n",
        "\n",
        "Te han pedido que revises los datos recopilados y propongas cambios.\n",
        "\n",
        "A continuación verás datos sobre un usuario o una usuaria en particular; revisa los datos e identifica cualquier posible problema."
      ]
    },
    {
      "cell_type": "code",
      "execution_count": 27,
      "metadata": {
        "id": "xr1YE8bFgWNM"
      },
      "outputs": [],
      "source": [
        "# Datos de usuario\n",
        "\n",
        "user_id = '32415'\n",
        "user_name = ' mike_reed '\n",
        "user_age = 32.0\n",
        "fav_categories = ['ELECTRONICS', 'SPORT', 'BOOKS']"
      ]
    },
    {
      "cell_type": "markdown",
      "metadata": {
        "id": "lboXi6bBgW3W"
      },
      "source": [
        "**Opciones:**\n",
        "\n",
        "1. Se debe cambiar el tipo de dato de user_id de cadena a entero.\n",
        "\n",
        "2. La variable user_name contiene una cadena que tiene espacios innecesarios y un guion bajo entre el nombre y el apellido.\n",
        "\n",
        "3. El tipo de dato de user_age es correcto y no hay necesidad de convertirlo.\n",
        "\n",
        "4. La lista fav_categories contiene cadenas en mayúsculas. En lugar de ello, debemos convertir los valores de la lista en minúsculas.\n",
        "\n",
        "Para cada una de las opciones, escribe en la siguiente celda markdown si la identificaste como un problema real en los datos o no. Justifica tu razonamiento. Por ejemplo, si crees que la primera opción es correcta, escríbelo y explica por qué piensas que es correcta."
      ]
    },
    {
      "cell_type": "markdown",
      "metadata": {
        "id": "_iH4wP-wglMI"
      },
      "source": [
        "**Escribe tu respuesta y explica tu argumentación:**\n",
        "\n",
        "1. La variable user_id se encuentra registrada como tipo str, lo ideal es tenerla en int ya que es un dato númerico y podría generar errores de procesamiento de código recordando que existen funciones y metodos que no se pueden utilizar combinando int y str.\n",
        "\n",
        "2. La variable user_name contiene espacios adicionalesy guines bajos, se necesita estandarizar el formato de nombres eliminando los espacios y guines bajos para hacer mas efectivo el tratamiento de los datos, adicional que podrían generarse errores de sintaxis al tratar la información.\n",
        "\n",
        "3. La variable user_age esta guardada como tipo float, este tipo de datos de edad es mejor tratarlos como int ya que facilitara su procesamiento y entendimiento. No se utiliza la edad en números decimales."
      ]
    },
    {
      "cell_type": "markdown",
      "metadata": {
        "id": "xmBIv7svhsMZ"
      },
      "source": [
        "## **Paso 2**\n",
        "\n",
        "Vamos a implementar los cambios que identificamos.\n",
        "\n",
        "Primero, necesitamos corregir los problemas de la variable `user_name`\n",
        "\n",
        "Como vimos, tiene espacios innecesarios y un guion bajo como separador entre el nombre y el apellido; tu objetivo es eliminar los espacios y luego reemplazar el guion bajo con el espacio."
      ]
    },
    {
      "cell_type": "code",
      "execution_count": 28,
      "metadata": {
        "colab": {
          "base_uri": "https://localhost:8080/"
        },
        "id": "SMw2ccVxhwzL",
        "outputId": "5a7a9027-bc37-470a-8956-06b7bc661940"
      },
      "outputs": [
        {
          "name": "stdout",
          "output_type": "stream",
          "text": [
            "mike reed\n"
          ]
        }
      ],
      "source": [
        "# Eliminar los espacios y reemplazar el guión bajo.\n",
        "\n",
        "user_name = ' mike_reed '\n",
        "user_name = user_name.strip() # escribe tu código aquí\n",
        "user_name = user_name.replace(\"_\", (\" \")) # escribe tu código aquí\n",
        "\n",
        "print(user_name)"
      ]
    },
    {
      "cell_type": "markdown",
      "metadata": {
        "id": "kZrpcCrjhxlK"
      },
      "source": [
        "****Hint****\n",
        "\n",
        "Existe un método, strip(), que puede eliminar espacios al principio y al final de una cadena. Además, el método replace() se puede usar para reemplazar una parte de una cadena. En este caso, queremos reemplazar los guiones bajos (_) con espacios."
      ]
    },
    {
      "cell_type": "markdown",
      "metadata": {
        "id": "ShtfVOdfiWc4"
      },
      "source": [
        "## **Paso 3**\n",
        "\n",
        "Luego, debemos dividir el user_name (nombre de usuario o usuaria) actualizado en dos subcadenas para obtener una lista que contenga dos valores: la cadena para el nombre y la cadena para el apellido."
      ]
    },
    {
      "cell_type": "code",
      "execution_count": 29,
      "metadata": {
        "colab": {
          "base_uri": "https://localhost:8080/"
        },
        "id": "44iGC0YqiaGo",
        "outputId": "84b5d034-a7b8-4133-f947-34204b15bbe0"
      },
      "outputs": [
        {
          "name": "stdout",
          "output_type": "stream",
          "text": [
            "['mike', 'reed']\n"
          ]
        }
      ],
      "source": [
        "# Dividir el \"user_name\"\n",
        "\n",
        "user_name = 'mike reed'\n",
        "name_split = user_name.split(\" \") # escribe tu código aquí\n",
        "\n",
        "print(name_split)"
      ]
    },
    {
      "cell_type": "markdown",
      "metadata": {
        "id": "eWv7Lg1nirRA"
      },
      "source": [
        "## **Paso 4**\n",
        "\n",
        "¡Genial! Ahora debemos trabajar con la variable user_age.\n",
        "\n",
        "Como ya mencionamos, esta tiene un tipo de datos incorrecto. Arreglemos este problema transformando el tipo de datos y mostrando el resultado final."
      ]
    },
    {
      "cell_type": "code",
      "execution_count": 30,
      "metadata": {
        "colab": {
          "base_uri": "https://localhost:8080/"
        },
        "id": "HKRUD8ZRiusG",
        "outputId": "86e0958c-89dd-44f7-be8b-7215c492d6fa"
      },
      "outputs": [
        {
          "name": "stdout",
          "output_type": "stream",
          "text": [
            "32\n"
          ]
        }
      ],
      "source": [
        "# Cambiar el tipo de datos en \"user_age\"\n",
        "\n",
        "user_age = 32.0\n",
        "user_age = int(user_age) # escribe tu código aquí\n",
        "\n",
        "print(user_age)"
      ]
    },
    {
      "cell_type": "markdown",
      "metadata": {
        "id": "oWUq7nfUi5BB"
      },
      "source": [
        "## **Paso 5**\n",
        "\n",
        "Como sabemos, los datos no siempre son perfectos. Debemos considerar escenarios en los que el valor de user_age no se pueda convertir en un número entero. Para evitar que nuestro sistema se bloquee, debemos tomar medidas con anticipación.\n",
        "\n",
        "Escribe un código que intente convertir la variable user_age en un número entero y asigna el valor transformado a user_age_int.\n",
        "\n",
        "Si el intento falla, mostramos un mensaje pidiendo al usuario o la usuaria que proporcione su edad como un valor numérico con el mensaje: Please provide your age as a numerical value. (Proporcione su edad como un valor numérico.)"
      ]
    },
    {
      "cell_type": "code",
      "execution_count": 31,
      "metadata": {
        "colab": {
          "base_uri": "https://localhost:8080/"
        },
        "id": "NIRzE9d5i7rG",
        "outputId": "74657528-1295-4593-b519-03b0313ec048"
      },
      "outputs": [
        {
          "name": "stdout",
          "output_type": "stream",
          "text": [
            "Please provide your age as a numerical number\n"
          ]
        }
      ],
      "source": [
        "# Asignar cambio de tipo de datos con try-except\n",
        "\n",
        "user_age = 'treinta y dos'\n",
        "\n",
        "try:\n",
        "    user_age = int(user_age) # escribe tu código aquí\n",
        "\n",
        "except:\n",
        "    print(\"Please provide your age as a numerical number\")"
      ]
    },
    {
      "cell_type": "markdown",
      "metadata": {
        "id": "tHan-ow0jlmE"
      },
      "source": [
        "## **Paso 6**\n",
        "\n",
        "El equipo de dirección de Store 1 te pidió ayudarles a organizar los datos de sus clientes para analizarlos y gestionarlos mejor.\n",
        "\n",
        "Tu tarea es ordenar esta lista por ID de usuario de forma ascendente para que sea más fácil acceder a ella y analizarla.\n"
      ]
    },
    {
      "cell_type": "code",
      "execution_count": 32,
      "metadata": {
        "colab": {
          "base_uri": "https://localhost:8080/"
        },
        "id": "J7C6lHxjjpcU",
        "outputId": "0e9aa190-3e78-44d5-e1e8-375527697522"
      },
      "outputs": [
        {
          "name": "stdout",
          "output_type": "stream",
          "text": [
            "[['31980', 'kate morgan', 24.0, ['CLOTHES', 'BOOKS'], [439, 390]], ['32156', ' john doe ', 37.0, ['ELECTRONICS', 'HOME', 'FOOD'], [459, 120, 99]], ['32415', ' mike_reed ', 32.0, ['ELECTRONICS', 'SPORT', 'BOOKS'], [894, 213, 173]], ['32761', 'SAMANTHA SMITH', 29.0, ['CLOTHES', 'ELECTRONICS', 'BEAUTY'], [299, 679, 85]], ['32984', 'David White', 41.0, ['BOOKS', 'HOME', 'SPORT'], [234, 329, 243]], ['33001', 'emily brown', 26.0, ['BEAUTY', 'HOME', 'FOOD'], [213, 659, 79]], ['33767', ' Maria Garcia', 33.0, ['CLOTHES', 'FOOD', 'BEAUTY'], [499, 189, 63]], ['33912', 'JOSE MARTINEZ', 22.0, ['SPORT', 'ELECTRONICS', 'HOME'], [259, 549, 109]], ['34009', 'lisa wilson ', 35.0, ['HOME', 'BOOKS', 'CLOTHES'], [329, 189, 329]], ['34278', 'James Lee', 28.0, ['BEAUTY', 'CLOTHES', 'ELECTRONICS'], [189, 299, 579]]]\n"
          ]
        }
      ],
      "source": [
        "# Ordenar la lista por id de usuario de forma ascendente\n",
        "\n",
        "users = [\n",
        "    ['32415', ' mike_reed ', 32.0, ['ELECTRONICS', 'SPORT', 'BOOKS'], [894, 213, 173]],\n",
        "    ['31980', 'kate morgan', 24.0, ['CLOTHES', 'BOOKS'], [439, 390]],\n",
        "    ['32156', ' john doe ', 37.0, ['ELECTRONICS', 'HOME', 'FOOD'], [459, 120, 99]],\n",
        "    ['32761', 'SAMANTHA SMITH', 29.0, ['CLOTHES', 'ELECTRONICS', 'BEAUTY'], [299, 679, 85]],\n",
        "    ['32984', 'David White', 41.0, ['BOOKS', 'HOME', 'SPORT'], [234, 329, 243]],\n",
        "    ['33001', 'emily brown', 26.0, ['BEAUTY', 'HOME', 'FOOD'], [213, 659, 79]],\n",
        "    ['33767', ' Maria Garcia', 33.0, ['CLOTHES', 'FOOD', 'BEAUTY'], [499, 189, 63]],\n",
        "    ['33912', 'JOSE MARTINEZ', 22.0, ['SPORT', 'ELECTRONICS', 'HOME'], [259, 549, 109]],\n",
        "    ['34009', 'lisa wilson ', 35.0, ['HOME', 'BOOKS', 'CLOTHES'], [329, 189, 329]],\n",
        "    ['34278', 'James Lee', 28.0, ['BEAUTY', 'CLOTHES', 'ELECTRONICS'], [189, 299, 579]],\n",
        "]\n",
        "\n",
        "users.sort() # escribe tu código aquí\n",
        "\n",
        "print(users)"
      ]
    },
    {
      "cell_type": "markdown",
      "metadata": {
        "id": "rcb8vSQVkfl0"
      },
      "source": [
        "## **Paso 7**\n",
        "\n",
        "Tenemos la información de los hábitos de consumo de nuestros usuarios, incluyendo la cantidad gastada en cada una de sus categorías favoritas. La dirección está interesada en conocer la cantidad total gastada por el usuario.\n",
        "\n",
        "Calculemos este valor y despleguémoslo."
      ]
    },
    {
      "cell_type": "code",
      "execution_count": 33,
      "metadata": {
        "colab": {
          "base_uri": "https://localhost:8080/"
        },
        "id": "d1Rw-g7Ikirg",
        "outputId": "4590c7f9-76e7-4b5a-f9b7-55a6d7da2670"
      },
      "outputs": [
        {
          "name": "stdout",
          "output_type": "stream",
          "text": [
            "1280\n"
          ]
        }
      ],
      "source": [
        "# Calcular la cantidad gastada por usuario\n",
        "\n",
        "fav_categories_low = ['electronics', 'sport', 'books']\n",
        "spendings_per_category = [894, 213, 173]\n",
        "\n",
        "total_amount = sum(spendings_per_category) # escribe tu código aquí\n",
        "\n",
        "print(total_amount)"
      ]
    },
    {
      "cell_type": "markdown",
      "metadata": {
        "id": "RaAto1iXkwCj"
      },
      "source": [
        "## **Paso 8**\n",
        "\n",
        "La dirección de la empresa nos pidió pensar en una manera de resumir toda la información de un usuario. Tu objetivo es crear una cadena formateada que utilice información de las variables user_id, user_name y user_age.\n",
        "\n",
        "Esta es la cadena final que queremos crear: User 32415 is mike who is 32 years old. (El usuario 32415 es Mike, quien tiene 32 años)."
      ]
    },
    {
      "cell_type": "code",
      "execution_count": 34,
      "metadata": {
        "colab": {
          "base_uri": "https://localhost:8080/"
        },
        "id": "XKp8jZrAk0V3",
        "outputId": "0f9dc5f2-2b39-446d-b822-45831ea812d1"
      },
      "outputs": [
        {
          "name": "stdout",
          "output_type": "stream",
          "text": [
            "User 32415 is mike who is 32 old.\n"
          ]
        }
      ],
      "source": [
        "# Crear cadenas con la información de usuario\n",
        "\n",
        "user_id = '32415'\n",
        "user_name = ['mike', 'reed']\n",
        "user_age = 32\n",
        "\n",
        "user_info = f\"User {user_id} is {user_name[0]} who is {user_age} old.\" # escribe tu código aquí\n",
        "print(user_info)"
      ]
    },
    {
      "cell_type": "markdown",
      "metadata": {
        "id": "4MEBXohDlgUt"
      },
      "source": [
        "## **Paso 9**\n",
        "\n",
        "La dirección también quiere una forma fácil de conocer la cantidad de clientes con cuyos datos contamos. Tu objetivo es crear una cadena formateada que muestre la cantidad de datos de clientes registrados.\n",
        "\n",
        "Esta es la cadena final que queremos crear: Hemos registrado datos de X clientes."
      ]
    },
    {
      "cell_type": "code",
      "execution_count": 35,
      "metadata": {
        "colab": {
          "base_uri": "https://localhost:8080/"
        },
        "id": "baKhXEeolkcI",
        "outputId": "783f5ca4-dae1-45e5-863f-49e0a9d66e2d"
      },
      "outputs": [
        {
          "name": "stdout",
          "output_type": "stream",
          "text": [
            "Hemos registrado datos de 10 clientes.\n"
          ]
        }
      ],
      "source": [
        "# Crea cadena para mostrar la candidad de datos registrados de clientes\n",
        "\n",
        "users = [\n",
        "    ['32415', ' mike_reed ', 32.0, ['ELECTRONICS', 'SPORT', 'BOOKS'], [894, 213, 173]],\n",
        "    ['31980', 'kate morgan', 24.0, ['CLOTHES', 'BOOKS'], [439, 390]],\n",
        "    ['32156', ' john doe ', 37.0, ['ELECTRONICS', 'HOME', 'FOOD'], [459, 120, 99]],\n",
        "    ['32761', 'SAMANTHA SMITH', 29.0, ['CLOTHES', 'ELECTRONICS', 'BEAUTY'], [299, 679, 85]],\n",
        "    ['32984', 'David White', 41.0, ['BOOKS', 'HOME', 'SPORT'], [234, 329, 243]],\n",
        "    ['33001', 'emily brown', 26.0, ['BEAUTY', 'HOME', 'FOOD'], [213, 659, 79]],\n",
        "    ['33767', ' Maria Garcia', 33.0, ['CLOTHES', 'FOOD', 'BEAUTY'], [499, 189, 63]],\n",
        "    ['33912', 'JOSE MARTINEZ', 22.0, ['SPORT', 'ELECTRONICS', 'HOME'], [259, 549, 109]],\n",
        "    ['34009', 'lisa wilson ', 35.0, ['HOME', 'BOOKS', 'CLOTHES'], [329, 189, 329]],\n",
        "    ['34278', 'James Lee', 28.0, ['BEAUTY', 'CLOTHES', 'ELECTRONICS'], [189, 299, 579]],\n",
        "]\n",
        "\n",
        "\n",
        "user_info = f\"Hemos registrado datos de {len(users)} clientes.\" # escribe tu código aquí\n",
        "print(user_info)"
      ]
    },
    {
      "cell_type": "markdown",
      "metadata": {
        "id": "YtTvpu_1mKV3"
      },
      "source": [
        "## **Paso 10**\n",
        "\n",
        "Apliquemos ahora todos los cambios a la lista de clientes. Para simplificar las cosas, te proporcionaremos una más corta. Debes:\n",
        "\n",
        "Eliminar todos los espacios iniciales y finales de los nombres, así como cualquier guion bajo.\n",
        "\n",
        "Convertir todas las edades en números enteros.\n",
        "\n",
        "Separar todos los nombres y apellidos en una sublista.\n",
        "\n",
        "Guarda la lista modificada como una nueva lista llamada users_clean y muéstrala en la pantalla."
      ]
    },
    {
      "cell_type": "code",
      "execution_count": 36,
      "metadata": {
        "colab": {
          "base_uri": "https://localhost:8080/"
        },
        "id": "kRkUbUoJmPkV",
        "outputId": "aa8362ae-2c26-4d00-d9a9-06701de4eeb4"
      },
      "outputs": [
        {
          "name": "stdout",
          "output_type": "stream",
          "text": [
            "[['32415', ['mike', 'reed'], 32, ['ELECTRONICS', 'SPORT', 'BOOKS'], [894, 213, 173]], ['31980', ['kate', 'morgan'], 24, ['CLOTHES', 'BOOKS'], [439, 390]], ['32156', ['john', 'doe'], 37, ['ELECTRONICS', 'HOME', 'FOOD'], [459, 120, 99]]]\n"
          ]
        }
      ],
      "source": [
        "# Actualizar la lista con los cambios sugeridos\n",
        "\n",
        "users = [\n",
        "    ['32415', ' mike_reed ', 32.0, ['ELECTRONICS', 'SPORT', 'BOOKS'], [894, 213, 173]],\n",
        "    ['31980', 'kate morgan', 24.0, ['CLOTHES', 'BOOKS'], [439, 390]],\n",
        "    ['32156', ' john doe ', 37.0, ['ELECTRONICS', 'HOME', 'FOOD'], [459, 120, 99]],\n",
        "]\n",
        "\n",
        "users_clean = []\n",
        "\n",
        "\n",
        "# Procesa al primer usuario\n",
        "user_name_1 = (users[0][1].strip().replace(\"_\", \" \"))  # escribe tu código aquí\n",
        "user_age_1 = int(users[0][2]) # escribe tu código aquí\n",
        "user_name_1 = user_name_1.split(\" \") # escribe tu código aquí\n",
        "users_clean = [] # escribe tu código aquí\n",
        "\n",
        "# Procesa al segundo usuario\n",
        "user_name_2 = (users[1][1].strip().replace(\"_\", \" \")) # escribe tu código aquí\n",
        "user_age_2 = int(users[1][2]) # escribe tu código aquí\n",
        "user_name_2 = user_name_2.split(\" \") # escribe tu código aquí\n",
        "users_clean = [] # escribe tu código aquí\n",
        "\n",
        "# Procesa al tercer usuario\n",
        "user_name_3 = (users[2][1].strip().replace(\"_\", \" \")) # escribe tu código aquí\n",
        "user_age_3 = int(users[2][2]) # escribe tu código aquí\n",
        "user_name_3 = user_name_3.split(\" \") # escribe tu código aquí\n",
        "users_clean = [[users[0][0], user_name_1, user_age_1, users[0][3], users[0][4]], [users[1][0], user_name_2, user_age_2, users[1][3], users[1][4]], [users[2][0], user_name_3, user_age_3, users[2][3], users[2][4]]] #escribe tu código aquí\n",
        "\n",
        "\n",
        "print(users_clean)"
      ]
    }
  ],
  "metadata": {
    "colab": {
      "provenance": []
    },
    "kernelspec": {
      "display_name": "Python 3",
      "name": "python3"
    },
    "language_info": {
      "codemirror_mode": {
        "name": "ipython",
        "version": 3
      },
      "file_extension": ".py",
      "mimetype": "text/x-python",
      "name": "python",
      "nbconvert_exporter": "python",
      "pygments_lexer": "ipython3",
      "version": "3.12.6"
    }
  },
  "nbformat": 4,
  "nbformat_minor": 0
}
